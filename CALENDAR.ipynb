{
 "cells": [
  {
   "cell_type": "markdown",
   "metadata": {},
   "source": [
    "Carolyn Massa\n",
    "\n",
    "AIRBNB Pricing Forecast- Paris, France - Notebook 3 of 5\n",
    "\n",
    "\n",
    "This noteboook reviews the prices and availability for the 58,184 listings as when a host begins they can set up their calendar to determine how many days out of the year they want to rent their space.\n",
    "\n",
    "Take note that in Paris spaces where the owner does NOT claim as his/her prime residence can ONLY be rented 120 days out of the 365 days of the year.\n",
    "\n",
    "More information is here: http://insideairbnb.com/paris/\n",
    "\n",
    "In my DataFrame for Calendar I have the following values:\n",
    "    \n",
    "    Listing ID: Each listing has their own ID\n",
    "    \n",
    "    Date: The date of the time frame by Day\n",
    "    \n",
    "    Available: Categorical Value This will read T if the property is available for rent and F if it is not available    \n",
    "    Price: The Price of the each listing for a one night rental\n",
    "    \n",
    "    Adjusted Price: Sometimes the renter will adjust their price to meet market demands\n",
    "    \n",
    "    Minimum Nights: The least number of nights the Owner is willing to rent it to a guest\n",
    "    \n",
    "    Maximum Nights:The maximum nights the Owner is willing to rent it though Paris has restrictions to 120 days per year if the property is the Owner's primary resident so we can \"guess\" that is the listing is on the market for more than 120 days it is classified as a share or it is simply \"illegal\".    \n",
    "    \n",
    "    In this data set there are: 7 columns and 21,236,885 observations which is comprised of 58,184 multiplied by 365 nights"
   ]
  },
  {
   "cell_type": "code",
   "execution_count": 1,
   "metadata": {},
   "outputs": [],
   "source": [
    "import pandas as pd\n",
    "import numpy as np\n",
    "\n",
    "import matplotlib.pyplot\n",
    "\n",
    "import seaborn as sns\n",
    "import re\n",
    "import datetime\n",
    "import calendar\n",
    "import datetime\n",
    "#!pip freeze > requirements.!pip freeze > requirements.txt \n",
    "#$ pip install -r requirements.txt\n",
    "%matplotlib inline\n",
    "from matplotlib import pyplot as plt\n"
   ]
  },
  {
   "cell_type": "code",
   "execution_count": 2,
   "metadata": {},
   "outputs": [],
   "source": [
    "Calendar_2019_04 = pd.read_csv('calendar_2019_04.csv', low_memory=False)"
   ]
  },
  {
   "cell_type": "code",
   "execution_count": 3,
   "metadata": {},
   "outputs": [
    {
     "name": "stdout",
     "output_type": "stream",
     "text": [
      "<class 'pandas.core.frame.DataFrame'>\n",
      "RangeIndex: 21236885 entries, 0 to 21236884\n",
      "Data columns (total 7 columns):\n",
      " #   Column          Dtype  \n",
      "---  ------          -----  \n",
      " 0   listing_id      int64  \n",
      " 1   date            object \n",
      " 2   available       object \n",
      " 3   price           object \n",
      " 4   adjusted_price  object \n",
      " 5   minimum_nights  float64\n",
      " 6   maximum_nights  float64\n",
      "dtypes: float64(2), int64(1), object(4)\n",
      "memory usage: 1.1+ GB\n"
     ]
    }
   ],
   "source": [
    "Calendar_2019_04.info()"
   ]
  },
  {
   "cell_type": "code",
   "execution_count": 4,
   "metadata": {},
   "outputs": [
    {
     "data": {
      "text/plain": [
       "0           2019-04-10\n",
       "1           2019-04-11\n",
       "2           2019-04-12\n",
       "3           2019-04-13\n",
       "4           2019-04-14\n",
       "               ...    \n",
       "21236880    2020-04-04\n",
       "21236881    2020-04-05\n",
       "21236882    2020-04-06\n",
       "21236883    2020-04-07\n",
       "21236884    2020-04-08\n",
       "Name: date, Length: 21236885, dtype: object"
      ]
     },
     "execution_count": 4,
     "metadata": {},
     "output_type": "execute_result"
    }
   ],
   "source": [
    "Calendar_2019_04.iloc[:,1]"
   ]
  },
  {
   "cell_type": "code",
   "execution_count": 5,
   "metadata": {},
   "outputs": [
    {
     "data": {
      "text/plain": [
       "Index(['adjusted_price', 'minimum_nights'], dtype='object')"
      ]
     },
     "execution_count": 5,
     "metadata": {},
     "output_type": "execute_result"
    }
   ],
   "source": [
    "Calendar_2019_04.iloc[:,4:6].columns"
   ]
  },
  {
   "cell_type": "code",
   "execution_count": 6,
   "metadata": {
    "scrolled": true
   },
   "outputs": [
    {
     "data": {
      "text/html": [
       "<div>\n",
       "<style scoped>\n",
       "    .dataframe tbody tr th:only-of-type {\n",
       "        vertical-align: middle;\n",
       "    }\n",
       "\n",
       "    .dataframe tbody tr th {\n",
       "        vertical-align: top;\n",
       "    }\n",
       "\n",
       "    .dataframe thead th {\n",
       "        text-align: right;\n",
       "    }\n",
       "</style>\n",
       "<table border=\"1\" class=\"dataframe\">\n",
       "  <thead>\n",
       "    <tr style=\"text-align: right;\">\n",
       "      <th></th>\n",
       "      <th>listing_id</th>\n",
       "      <th>date</th>\n",
       "      <th>available</th>\n",
       "      <th>price</th>\n",
       "      <th>adjusted_price</th>\n",
       "      <th>minimum_nights</th>\n",
       "      <th>maximum_nights</th>\n",
       "    </tr>\n",
       "  </thead>\n",
       "  <tbody>\n",
       "    <tr>\n",
       "      <th>21236880</th>\n",
       "      <td>33338090</td>\n",
       "      <td>2020-04-04</td>\n",
       "      <td>f</td>\n",
       "      <td>$65.00</td>\n",
       "      <td>$65.00</td>\n",
       "      <td>1.0</td>\n",
       "      <td>1125.0</td>\n",
       "    </tr>\n",
       "    <tr>\n",
       "      <th>21236881</th>\n",
       "      <td>33338090</td>\n",
       "      <td>2020-04-05</td>\n",
       "      <td>f</td>\n",
       "      <td>$65.00</td>\n",
       "      <td>$65.00</td>\n",
       "      <td>1.0</td>\n",
       "      <td>1125.0</td>\n",
       "    </tr>\n",
       "    <tr>\n",
       "      <th>21236882</th>\n",
       "      <td>33338090</td>\n",
       "      <td>2020-04-06</td>\n",
       "      <td>f</td>\n",
       "      <td>$65.00</td>\n",
       "      <td>$65.00</td>\n",
       "      <td>1.0</td>\n",
       "      <td>1125.0</td>\n",
       "    </tr>\n",
       "    <tr>\n",
       "      <th>21236883</th>\n",
       "      <td>33338090</td>\n",
       "      <td>2020-04-07</td>\n",
       "      <td>f</td>\n",
       "      <td>$65.00</td>\n",
       "      <td>$65.00</td>\n",
       "      <td>1.0</td>\n",
       "      <td>1125.0</td>\n",
       "    </tr>\n",
       "    <tr>\n",
       "      <th>21236884</th>\n",
       "      <td>33338090</td>\n",
       "      <td>2020-04-08</td>\n",
       "      <td>f</td>\n",
       "      <td>$65.00</td>\n",
       "      <td>$65.00</td>\n",
       "      <td>1.0</td>\n",
       "      <td>1125.0</td>\n",
       "    </tr>\n",
       "  </tbody>\n",
       "</table>\n",
       "</div>"
      ],
      "text/plain": [
       "          listing_id        date available   price adjusted_price  \\\n",
       "21236880    33338090  2020-04-04         f  $65.00         $65.00   \n",
       "21236881    33338090  2020-04-05         f  $65.00         $65.00   \n",
       "21236882    33338090  2020-04-06         f  $65.00         $65.00   \n",
       "21236883    33338090  2020-04-07         f  $65.00         $65.00   \n",
       "21236884    33338090  2020-04-08         f  $65.00         $65.00   \n",
       "\n",
       "          minimum_nights  maximum_nights  \n",
       "21236880             1.0          1125.0  \n",
       "21236881             1.0          1125.0  \n",
       "21236882             1.0          1125.0  \n",
       "21236883             1.0          1125.0  \n",
       "21236884             1.0          1125.0  "
      ]
     },
     "execution_count": 6,
     "metadata": {},
     "output_type": "execute_result"
    }
   ],
   "source": [
    "Calendar_2019_04.tail(5) #Note that f(false) means not available, t(true) means available"
   ]
  },
  {
   "cell_type": "code",
   "execution_count": 7,
   "metadata": {},
   "outputs": [
    {
     "name": "stdout",
     "output_type": "stream",
     "text": [
      "We have 366 days and 58184 unique listings in the calendar data.\n"
     ]
    }
   ],
   "source": [
    "\n",
    "\n",
    "Calendar_2019_04.available.value_counts() #Here I review the availability ; F = Available and T = Available\n",
    "\n",
    "\n",
    "print('We have', Calendar_2019_04.date.nunique(), 'days and', Calendar_2019_04.listing_id.nunique(), 'unique listings in the calendar data.')"
   ]
  },
  {
   "cell_type": "code",
   "execution_count": 8,
   "metadata": {},
   "outputs": [
    {
     "data": {
      "text/plain": [
       "('2019-04-09', '2020-04-08')"
      ]
     },
     "execution_count": 8,
     "metadata": {},
     "output_type": "execute_result"
    }
   ],
   "source": [
    "Calendar_2019_04.date.min(), Calendar_2019_04.date.max()"
   ]
  },
  {
   "cell_type": "code",
   "execution_count": 9,
   "metadata": {},
   "outputs": [
    {
     "data": {
      "text/plain": [
       "(21236885, 7)"
      ]
     },
     "execution_count": 9,
     "metadata": {},
     "output_type": "execute_result"
    }
   ],
   "source": [
    "Calendar_2019_04.shape"
   ]
  },
  {
   "cell_type": "code",
   "execution_count": 11,
   "metadata": {},
   "outputs": [
    {
     "name": "stderr",
     "output_type": "stream",
     "text": [
      "C:\\Users\\1800r\\anaconda3\\lib\\site-packages\\ipykernel_launcher.py:6: SettingWithCopyWarning: \n",
      "A value is trying to be set on a copy of a slice from a DataFrame.\n",
      "Try using .loc[row_indexer,col_indexer] = value instead\n",
      "\n",
      "See the caveats in the documentation: https://pandas.pydata.org/pandas-docs/stable/user_guide/indexing.html#returning-a-view-versus-a-copy\n",
      "  \n"
     ]
    },
    {
     "data": {
      "image/png": "[encoded data removed]",
      "text/plain": [
       "<Figure size 720x360 with 1 Axes>"
      ]
     },
     "metadata": {
      "needs_background": "light"
     },
     "output_type": "display_data"
    }
   ],
   "source": [
    " #Here I review the availability of the properties and create \n",
    "#a column to account for the properties that are not available\n",
    "#by assigning either a 0 or a 1\n",
    "\n",
    "calendar_new = Calendar_2019_04[['date', 'available']]\n",
    "calendar_new['busy'] = calendar_new.available.map( lambda x: 0 if x == 't' else 1)\n",
    "calendar_new = calendar_new.groupby('date')['busy'].mean().reset_index()\n",
    "calendar_new['date'] = pd.to_datetime(calendar_new['date'])\n",
    "plt.figure(figsize=(10, 5))\n",
    "plt.plot(calendar_new['date'], calendar_new['busy'])\n",
    "plt.title('Paris AIRBNB Calendar for April, 2019 to April, 2020')\n",
    "plt.ylabel('% busy')\n",
    "plt.show();"
   ]
  },
  {
   "cell_type": "markdown",
   "metadata": {},
   "source": [
    "#We see that the drop when CO-VID -19 came to Paris at the beginning of March 2020 and travel was severely restricted"
   ]
  },
  {
   "cell_type": "code",
   "execution_count": 12,
   "metadata": {},
   "outputs": [],
   "source": [
    "# Data Wrangling & Exploration: As per my Primary Notebook I remove both date and pricing outliers\n",
    "\n",
    "Calendar_2019_04.query(\"date >= '2019-04-09' & date <= '2020-03-01' \", inplace=True) \n",
    "\n",
    "#here I remove the dates after CO_VID -19 happended and affected Paris the most which was March 1, 2020"
   ]
  },
  {
   "cell_type": "code",
   "execution_count": 21,
   "metadata": {},
   "outputs": [
    {
     "data": {
      "text/plain": [
       "count    1.906491e+07\n",
       "mean     1.194323e+02\n",
       "std      1.645825e+02\n",
       "min      8.000000e+00\n",
       "25%      6.000000e+01\n",
       "50%      8.500000e+01\n",
       "75%      1.290000e+02\n",
       "max      1.000000e+04\n",
       "Name: price, dtype: float64"
      ]
     },
     "execution_count": 21,
     "metadata": {},
     "output_type": "execute_result"
    }
   ],
   "source": [
    "Calendar_2019_04.price.describe()#We notice our prices range from 8 USD to 10,000 USD per night"
   ]
  },
  {
   "cell_type": "code",
   "execution_count": 33,
   "metadata": {},
   "outputs": [],
   "source": []
  },
  {
   "cell_type": "code",
   "execution_count": 34,
   "metadata": {},
   "outputs": [],
   "source": [
    "Calendar_2019_04.drop(Calendar_2019_04[Calendar_2019_04['price'] < '$10.00' ].index, inplace=True)"
   ]
  },
  {
   "cell_type": "code",
   "execution_count": 35,
   "metadata": {},
   "outputs": [
    {
     "data": {
      "image/png": "[encoded data removed]",
      "text/plain": [
       "<Figure size 864x504 with 1 Axes>"
      ]
     },
     "metadata": {
      "needs_background": "light"
     },
     "output_type": "display_data"
    }
   ],
   "source": [
    "Calendar_2019_04['date'] = pd.to_datetime(Calendar_2019_04['date'])\n",
    "Calendar_2019_04['price'] = Calendar_2019_04['price'].str.replace(',', '')\n",
    "Calendar_2019_04['price'] = Calendar_2019_04['price'].str.replace('$', '')\n",
    "Calendar_2019_04['price'] = Calendar_2019_04['price'].astype(float)\n",
    "Calendar_2019_04['date'] = pd.to_datetime(Calendar_2019_04['date'])\n",
    "mean_of_month = Calendar_2019_04.groupby(Calendar_2019_04['date'].dt.strftime('%B'),\n",
    "                                 sort=False)['price'].mean()\n",
    "mean_of_month.plot(kind = 'barh' , figsize = (12,7))\n",
    "plt.xlabel('average monthly price');"
   ]
  },
  {
   "cell_type": "code",
   "execution_count": 15,
   "metadata": {},
   "outputs": [
    {
     "data": {
      "image/png": "[encoded data removed]",
      "text/plain": [
       "<Figure size 864x504 with 1 Axes>"
      ]
     },
     "metadata": {
      "needs_background": "light"
     },
     "output_type": "display_data"
    }
   ],
   "source": [
    "Calendar_2019_04['date'] = pd.to_datetime(Calendar_2019_04['date'])\n",
    "\n",
    "median_of_month = Calendar_2019_04.groupby(Calendar_2019_04['date'].dt.strftime('%B'),\n",
    "                                 sort=False)['price'].median()\n",
    "median_of_month.plot(kind = 'barh' , figsize = (12,7))\n",
    "plt.xlabel('Median monthly price');\n"
   ]
  },
  {
   "cell_type": "code",
   "execution_count": 16,
   "metadata": {},
   "outputs": [
    {
     "data": {
      "text/plain": [
       "119.43232183444053"
      ]
     },
     "execution_count": 16,
     "metadata": {},
     "output_type": "execute_result"
    }
   ],
   "source": [
    "Calendar_2019_04.price.mean() \n",
    "#We notice the average monthly price of all 58,184 listings is $143.68. \n",
    "#There is only a slight increase in September"
   ]
  },
  {
   "cell_type": "code",
   "execution_count": 17,
   "metadata": {},
   "outputs": [
    {
     "data": {
      "text/plain": [
       "85.0"
      ]
     },
     "execution_count": 17,
     "metadata": {},
     "output_type": "execute_result"
    }
   ],
   "source": [
    "Calendar_2019_04.price.median() "
   ]
  },
  {
   "cell_type": "code",
   "execution_count": 37,
   "metadata": {},
   "outputs": [],
   "source": [
    "\n",
    "bins = [ 0, 50, 100, 200, 300, 450, 600, 700] #Here I create groups by Prices\n",
    "labels = ['0-49', '49-99', '100-199', '200-299', '300-449','450-599', '600+']\n",
    "Calendar_2019_04['GroupedbyPrice'] = pd.cut(Calendar_2019_04.price, bins, labels = labels,include_lowest = True)\n",
    "\n"
   ]
  },
  {
   "cell_type": "code",
   "execution_count": 42,
   "metadata": {},
   "outputs": [
    {
     "data": {
      "text/plain": [
       "<function matplotlib.pyplot.show(*args, **kw)>"
      ]
     },
     "execution_count": 42,
     "metadata": {},
     "output_type": "execute_result"
    },
    {
     "data": {
      "image/png": "[encoded data removed]",
      "text/plain": [
       "<Figure size 432x288 with 1 Axes>"
      ]
     },
     "metadata": {
      "needs_background": "light"
     },
     "output_type": "display_data"
    }
   ],
   "source": [
    "sns.countplot(x='GroupedbyPrice', hue = 'available', data = Calendar_2019_04) #we see most of our prices are in the 100 to 199 range\n",
    "plt.show"
   ]
  },
  {
   "cell_type": "code",
   "execution_count": 49,
   "metadata": {},
   "outputs": [],
   "source": [
    "bins = [ 0, 10, 20, 100, 180, 240, 300, 365] #Here I create groups for maximum days\n",
    "labels = ['0-9', '10-19', '20-99', '100-179', '180-239','240-299','300+']\n",
    "Calendar_2019_04['GroupedbyMaxDays'] = pd.cut(Calendar_2019_04.maximum_nights, bins, labels = labels,include_lowest = True)\n",
    "\n"
   ]
  },
  {
   "cell_type": "code",
   "execution_count": 50,
   "metadata": {},
   "outputs": [
    {
     "data": {
      "text/plain": [
       "<function matplotlib.pyplot.show(*args, **kw)>"
      ]
     },
     "execution_count": 50,
     "metadata": {},
     "output_type": "execute_result"
    },
    {
     "data": {
      "image/png": "[encoded data removed]",
      "text/plain": [
       "<Figure size 432x288 with 1 Axes>"
      ]
     },
     "metadata": {
      "needs_background": "light"
     },
     "output_type": "display_data"
    }
   ],
   "source": [
    "sns.countplot(x='GroupedbyMaxDays', hue = 'available', data = Calendar_2019_04) #we see most of our prices are in the 100 to 199 range\n",
    "plt.show"
   ]
  },
  {
   "cell_type": "code",
   "execution_count": 51,
   "metadata": {},
   "outputs": [
    {
     "data": {
      "image/png": "[encoded data removed]",
      "text/plain": [
       "<Figure size 1512x432 with 3 Axes>"
      ]
     },
     "metadata": {
      "needs_background": "light"
     },
     "output_type": "display_data"
    }
   ],
   "source": [
    "import statsmodels.api #Here I create a distribution plot and add logs to display a large amount of data in a compact way\n",
    "import statsmodels.api as sm #We see here I have a log normal distribution\n",
    "from scipy import stats\n",
    "fig, axes = plt.subplots(1,3, figsize=(21,6))\n",
    "sns.distplot(Calendar_2019_04['price'], ax=axes[0])\n",
    "sns.distplot(np.log1p(Calendar_2019_04['price']), ax=axes[1])\n",
    "axes[1].set_xlabel('log(1+price)')\n",
    "sm.qqplot(np.log1p(Calendar_2019_04['price']), stats.norm, fit=True, line='45', ax=axes[2]);"
   ]
  },
  {
   "cell_type": "code",
   "execution_count": null,
   "metadata": {},
   "outputs": [],
   "source": [
    "import plotly.express as px\n",
    "\n",
    "\n",
    "fig = px.line(mean_of_month, x=\"price\", y=\"date\", color='neighbourhood')\n",
    "fig.show()"
   ]
  },
  {
   "cell_type": "code",
   "execution_count": 55,
   "metadata": {},
   "outputs": [
    {
     "name": "stderr",
     "output_type": "stream",
     "text": [
      "C:\\Users\\1800r\\anaconda3\\lib\\site-packages\\ipykernel_launcher.py:2: SettingWithCopyWarning: \n",
      "A value is trying to be set on a copy of a slice from a DataFrame.\n",
      "Try using .loc[row_indexer,col_indexer] = value instead\n",
      "\n",
      "See the caveats in the documentation: https://pandas.pydata.org/pandas-docs/stable/user_guide/indexing.html#returning-a-view-versus-a-copy\n",
      "  \n"
     ]
    },
    {
     "data": {
      "image/png": "[encoded data removed]",
      "text/plain": [
       "<Figure size 720x360 with 1 Axes>"
      ]
     },
     "metadata": {
      "needs_background": "light"
     },
     "output_type": "display_data"
    }
   ],
   "source": [
    "calendar_new = Calendar_2019_04[['date', 'available','price']]\n",
    "calendar_new['busy'] = calendar_new.available.map( lambda x: 0 if x == 't' else 1)\n",
    "calendar_new = calendar_new.groupby('date')['busy'].mean().reset_index()\n",
    "calendar_new['date'] = pd.to_datetime(calendar_new['date'])\n",
    "plt.figure(figsize=(10, 5))\n",
    "plt.plot(calendar_new['date'], calendar_new['busy'])\n",
    "plt.title('Airbnb Paris Calendar % Busy')\n",
    "plt.ylabel('% busy')\n",
    "plt.show();"
   ]
  },
  {
   "cell_type": "code",
   "execution_count": 56,
   "metadata": {},
   "outputs": [
    {
     "data": {
      "text/plain": [
       "busy    0.706325\n",
       "dtype: float64"
      ]
     },
     "execution_count": 56,
     "metadata": {},
     "output_type": "execute_result"
    }
   ],
   "source": [
    "calendar_new.mean() #We notice an average of 70% of listings are busy during our 11 month time frame"
   ]
  },
  {
   "cell_type": "code",
   "execution_count": 57,
   "metadata": {},
   "outputs": [
    {
     "name": "stderr",
     "output_type": "stream",
     "text": [
      "C:\\Users\\1800r\\anaconda3\\lib\\site-packages\\ipykernel_launcher.py:2: SettingWithCopyWarning: \n",
      "A value is trying to be set on a copy of a slice from a DataFrame.\n",
      "Try using .loc[row_indexer,col_indexer] = value instead\n",
      "\n",
      "See the caveats in the documentation: https://pandas.pydata.org/pandas-docs/stable/user_guide/indexing.html#returning-a-view-versus-a-copy\n",
      "  \n"
     ]
    },
    {
     "data": {
      "image/png": "[encoded data removed]",
      "text/plain": [
       "<Figure size 720x360 with 1 Axes>"
      ]
     },
     "metadata": {
      "needs_background": "light"
     },
     "output_type": "display_data"
    }
   ],
   "source": [
    "calendar_new = Calendar_2019_04[['date', 'available', 'price']] #In this plot we \n",
    "calendar_new['not_busy'] = calendar_new.available.map( lambda x: 0 if x == 'f' else 1)\n",
    "calendar_new = calendar_new.groupby('date')['not_busy'].mean().reset_index()\n",
    "calendar_new['date'] = pd.to_datetime(calendar_new['date'])\n",
    "plt.figure(figsize=(10, 5))\n",
    "plt.plot(calendar_new['date'], calendar_new['not_busy'])\n",
    "plt.title('Airbnb Paris Calendar - Not Busy')\n",
    "plt.ylabel('% Not Busy')\n",
    "plt.show();"
   ]
  },
  {
   "cell_type": "code",
   "execution_count": 28,
   "metadata": {},
   "outputs": [],
   "source": [
    "from datetime import date\n",
    "import calendar\n"
   ]
  },
  {
   "cell_type": "code",
   "execution_count": 29,
   "metadata": {},
   "outputs": [],
   "source": [
    "Calendar_2019_04['date'] = pd.to_datetime(Calendar_2019_04['date'], errors='coerce')"
   ]
  },
  {
   "cell_type": "code",
   "execution_count": 30,
   "metadata": {},
   "outputs": [],
   "source": [
    "Calendar_2019_04['day_of_week'] = Calendar_2019_04['date'].dt.day_name()"
   ]
  },
  {
   "cell_type": "code",
   "execution_count": 31,
   "metadata": {},
   "outputs": [],
   "source": [
    "calendar_new['price'] = Calendar_2019_04['price'] "
   ]
  },
  {
   "cell_type": "code",
   "execution_count": 32,
   "metadata": {},
   "outputs": [
    {
     "name": "stdout",
     "output_type": "stream",
     "text": [
      "day_of_week\n",
      "Friday       120.396544\n",
      "Monday       119.066688\n",
      "Saturday     120.564720\n",
      "Sunday       118.748706\n",
      "Thursday     119.135847\n",
      "Tuesday      118.981046\n",
      "Wednesday    119.121824\n",
      "Name: price, dtype: float64\n"
     ]
    }
   ],
   "source": [
    "import matplotlib.pyplot as plt\n",
    "\n",
    "Prices_By_Day=  Calendar_2019_04.groupby(['day_of_week'])['price'].mean() \n",
    "print(Prices_By_Day)\n"
   ]
  },
  {
   "cell_type": "code",
   "execution_count": 33,
   "metadata": {},
   "outputs": [
    {
     "data": {
      "text/plain": [
       "<matplotlib.axes._subplots.AxesSubplot at 0x1dc2da7eac8>"
      ]
     },
     "execution_count": 33,
     "metadata": {},
     "output_type": "execute_result"
    },
    {
     "data": {
      "image/png": "[encoded data removed]",
      "text/plain": [
       "<Figure size 432x288 with 1 Axes>"
      ]
     },
     "metadata": {
      "needs_background": "light"
     },
     "output_type": "display_data"
    }
   ],
   "source": [
    "Prices_By_Day.plot() #We only notice a miniscule difference in cost average per day"
   ]
  },
  {
   "cell_type": "code",
   "execution_count": 34,
   "metadata": {},
   "outputs": [
    {
     "data": {
      "text/html": [
       "<div>\n",
       "<style scoped>\n",
       "    .dataframe tbody tr th:only-of-type {\n",
       "        vertical-align: middle;\n",
       "    }\n",
       "\n",
       "    .dataframe tbody tr th {\n",
       "        vertical-align: top;\n",
       "    }\n",
       "\n",
       "    .dataframe thead th {\n",
       "        text-align: right;\n",
       "    }\n",
       "</style>\n",
       "<table border=\"1\" class=\"dataframe\">\n",
       "  <thead>\n",
       "    <tr style=\"text-align: right;\">\n",
       "      <th></th>\n",
       "      <th>listing_id</th>\n",
       "      <th>date</th>\n",
       "      <th>available</th>\n",
       "      <th>price</th>\n",
       "      <th>adjusted_price</th>\n",
       "      <th>minimum_nights</th>\n",
       "      <th>maximum_nights</th>\n",
       "      <th>GroupedbyPrice</th>\n",
       "      <th>day_of_week</th>\n",
       "    </tr>\n",
       "  </thead>\n",
       "  <tbody>\n",
       "    <tr>\n",
       "      <th>0</th>\n",
       "      <td>76348</td>\n",
       "      <td>2019-04-10</td>\n",
       "      <td>f</td>\n",
       "      <td>27.0</td>\n",
       "      <td>$27.00</td>\n",
       "      <td>7.0</td>\n",
       "      <td>365.0</td>\n",
       "      <td>0-49</td>\n",
       "      <td>Wednesday</td>\n",
       "    </tr>\n",
       "    <tr>\n",
       "      <th>1</th>\n",
       "      <td>76348</td>\n",
       "      <td>2019-04-11</td>\n",
       "      <td>f</td>\n",
       "      <td>27.0</td>\n",
       "      <td>$27.00</td>\n",
       "      <td>7.0</td>\n",
       "      <td>365.0</td>\n",
       "      <td>0-49</td>\n",
       "      <td>Thursday</td>\n",
       "    </tr>\n",
       "    <tr>\n",
       "      <th>2</th>\n",
       "      <td>76348</td>\n",
       "      <td>2019-04-12</td>\n",
       "      <td>f</td>\n",
       "      <td>31.0</td>\n",
       "      <td>$31.00</td>\n",
       "      <td>7.0</td>\n",
       "      <td>365.0</td>\n",
       "      <td>0-49</td>\n",
       "      <td>Friday</td>\n",
       "    </tr>\n",
       "    <tr>\n",
       "      <th>3</th>\n",
       "      <td>76348</td>\n",
       "      <td>2019-04-13</td>\n",
       "      <td>f</td>\n",
       "      <td>31.0</td>\n",
       "      <td>$31.00</td>\n",
       "      <td>7.0</td>\n",
       "      <td>365.0</td>\n",
       "      <td>0-49</td>\n",
       "      <td>Saturday</td>\n",
       "    </tr>\n",
       "    <tr>\n",
       "      <th>4</th>\n",
       "      <td>76348</td>\n",
       "      <td>2019-04-14</td>\n",
       "      <td>f</td>\n",
       "      <td>27.0</td>\n",
       "      <td>$27.00</td>\n",
       "      <td>7.0</td>\n",
       "      <td>365.0</td>\n",
       "      <td>0-49</td>\n",
       "      <td>Sunday</td>\n",
       "    </tr>\n",
       "  </tbody>\n",
       "</table>\n",
       "</div>"
      ],
      "text/plain": [
       "   listing_id       date available  price adjusted_price  minimum_nights  \\\n",
       "0       76348 2019-04-10         f   27.0         $27.00             7.0   \n",
       "1       76348 2019-04-11         f   27.0         $27.00             7.0   \n",
       "2       76348 2019-04-12         f   31.0         $31.00             7.0   \n",
       "3       76348 2019-04-13         f   31.0         $31.00             7.0   \n",
       "4       76348 2019-04-14         f   27.0         $27.00             7.0   \n",
       "\n",
       "   maximum_nights GroupedbyPrice day_of_week  \n",
       "0           365.0           0-49   Wednesday  \n",
       "1           365.0           0-49    Thursday  \n",
       "2           365.0           0-49      Friday  \n",
       "3           365.0           0-49    Saturday  \n",
       "4           365.0           0-49      Sunday  "
      ]
     },
     "execution_count": 34,
     "metadata": {},
     "output_type": "execute_result"
    }
   ],
   "source": [
    "Calendar_2019_04.head(5)"
   ]
  },
  {
   "cell_type": "code",
   "execution_count": 35,
   "metadata": {},
   "outputs": [
    {
     "data": {
      "text/plain": [
       "f    15029323\n",
       "t     4035585\n",
       "Name: available, dtype: int64"
      ]
     },
     "execution_count": 35,
     "metadata": {},
     "output_type": "execute_result"
    }
   ],
   "source": [
    "Calendar_2019_04['available'].value_counts(dropna=False) #These are the days that are available and not available in the calendar year"
   ]
  },
  {
   "cell_type": "code",
   "execution_count": 36,
   "metadata": {},
   "outputs": [
    {
     "data": {
      "text/plain": [
       "listing_id\n",
       "2394    328\n",
       "2577    328\n",
       "3109    327\n",
       "5396    327\n",
       "7397    327\n",
       "Name: available, dtype: int64"
      ]
     },
     "execution_count": 36,
     "metadata": {},
     "output_type": "execute_result"
    }
   ],
   "source": [
    "Paris_availability = Calendar_2019_04.groupby(['listing_id']).available.count()\n",
    "Paris_availability.head(5)"
   ]
  },
  {
   "cell_type": "code",
   "execution_count": 37,
   "metadata": {},
   "outputs": [],
   "source": [
    "Over_365 = Paris_availability[Paris_availability != 365]\n",
    "\n",
    "#I notice there are listings with more than 365 days which I need to change so I adjust them to 365"
   ]
  },
  {
   "cell_type": "code",
   "execution_count": 38,
   "metadata": {
    "scrolled": true
   },
   "outputs": [
    {
     "data": {
      "text/html": [
       "<div>\n",
       "<style scoped>\n",
       "    .dataframe tbody tr th:only-of-type {\n",
       "        vertical-align: middle;\n",
       "    }\n",
       "\n",
       "    .dataframe tbody tr th {\n",
       "        vertical-align: top;\n",
       "    }\n",
       "\n",
       "    .dataframe thead th {\n",
       "        text-align: right;\n",
       "    }\n",
       "</style>\n",
       "<table border=\"1\" class=\"dataframe\">\n",
       "  <thead>\n",
       "    <tr style=\"text-align: right;\">\n",
       "      <th></th>\n",
       "      <th>listing_id</th>\n",
       "      <th>date</th>\n",
       "      <th>available</th>\n",
       "      <th>price</th>\n",
       "      <th>adjusted_price</th>\n",
       "      <th>minimum_nights</th>\n",
       "      <th>maximum_nights</th>\n",
       "      <th>GroupedbyPrice</th>\n",
       "      <th>day_of_week</th>\n",
       "      <th>unavailable</th>\n",
       "    </tr>\n",
       "  </thead>\n",
       "  <tbody>\n",
       "    <tr>\n",
       "      <th>0</th>\n",
       "      <td>76348</td>\n",
       "      <td>2019-04-10</td>\n",
       "      <td>f</td>\n",
       "      <td>27.0</td>\n",
       "      <td>$27.00</td>\n",
       "      <td>7.0</td>\n",
       "      <td>365.0</td>\n",
       "      <td>0-49</td>\n",
       "      <td>Wednesday</td>\n",
       "      <td>1</td>\n",
       "    </tr>\n",
       "    <tr>\n",
       "      <th>1</th>\n",
       "      <td>76348</td>\n",
       "      <td>2019-04-11</td>\n",
       "      <td>f</td>\n",
       "      <td>27.0</td>\n",
       "      <td>$27.00</td>\n",
       "      <td>7.0</td>\n",
       "      <td>365.0</td>\n",
       "      <td>0-49</td>\n",
       "      <td>Thursday</td>\n",
       "      <td>1</td>\n",
       "    </tr>\n",
       "    <tr>\n",
       "      <th>2</th>\n",
       "      <td>76348</td>\n",
       "      <td>2019-04-12</td>\n",
       "      <td>f</td>\n",
       "      <td>31.0</td>\n",
       "      <td>$31.00</td>\n",
       "      <td>7.0</td>\n",
       "      <td>365.0</td>\n",
       "      <td>0-49</td>\n",
       "      <td>Friday</td>\n",
       "      <td>1</td>\n",
       "    </tr>\n",
       "    <tr>\n",
       "      <th>3</th>\n",
       "      <td>76348</td>\n",
       "      <td>2019-04-13</td>\n",
       "      <td>f</td>\n",
       "      <td>31.0</td>\n",
       "      <td>$31.00</td>\n",
       "      <td>7.0</td>\n",
       "      <td>365.0</td>\n",
       "      <td>0-49</td>\n",
       "      <td>Saturday</td>\n",
       "      <td>1</td>\n",
       "    </tr>\n",
       "    <tr>\n",
       "      <th>4</th>\n",
       "      <td>76348</td>\n",
       "      <td>2019-04-14</td>\n",
       "      <td>f</td>\n",
       "      <td>27.0</td>\n",
       "      <td>$27.00</td>\n",
       "      <td>7.0</td>\n",
       "      <td>365.0</td>\n",
       "      <td>0-49</td>\n",
       "      <td>Sunday</td>\n",
       "      <td>1</td>\n",
       "    </tr>\n",
       "  </tbody>\n",
       "</table>\n",
       "</div>"
      ],
      "text/plain": [
       "   listing_id       date available  price adjusted_price  minimum_nights  \\\n",
       "0       76348 2019-04-10         f   27.0         $27.00             7.0   \n",
       "1       76348 2019-04-11         f   27.0         $27.00             7.0   \n",
       "2       76348 2019-04-12         f   31.0         $31.00             7.0   \n",
       "3       76348 2019-04-13         f   31.0         $31.00             7.0   \n",
       "4       76348 2019-04-14         f   27.0         $27.00             7.0   \n",
       "\n",
       "   maximum_nights GroupedbyPrice day_of_week  unavailable  \n",
       "0           365.0           0-49   Wednesday            1  \n",
       "1           365.0           0-49    Thursday            1  \n",
       "2           365.0           0-49      Friday            1  \n",
       "3           365.0           0-49    Saturday            1  \n",
       "4           365.0           0-49      Sunday            1  "
      ]
     },
     "execution_count": 38,
     "metadata": {},
     "output_type": "execute_result"
    }
   ],
   "source": [
    "Calendar_2019_04['unavailable'] = np.where(Calendar_2019_04['available']==\"f\", 1, 0) #Here I create a counting method for my unavailable properties\n",
    "Calendar_2019_04.head()"
   ]
  },
  {
   "cell_type": "code",
   "execution_count": 42,
   "metadata": {},
   "outputs": [
    {
     "data": {
      "text/html": [
       "<div>\n",
       "<style scoped>\n",
       "    .dataframe tbody tr th:only-of-type {\n",
       "        vertical-align: middle;\n",
       "    }\n",
       "\n",
       "    .dataframe tbody tr th {\n",
       "        vertical-align: top;\n",
       "    }\n",
       "\n",
       "    .dataframe thead th {\n",
       "        text-align: right;\n",
       "    }\n",
       "</style>\n",
       "<table border=\"1\" class=\"dataframe\">\n",
       "  <thead>\n",
       "    <tr style=\"text-align: right;\">\n",
       "      <th></th>\n",
       "      <th>total_days_unavailable</th>\n",
       "      <th>total_days_available</th>\n",
       "      <th>unavail_percentage</th>\n",
       "    </tr>\n",
       "    <tr>\n",
       "      <th>listing_id</th>\n",
       "      <th></th>\n",
       "      <th></th>\n",
       "      <th></th>\n",
       "    </tr>\n",
       "  </thead>\n",
       "  <tbody>\n",
       "    <tr>\n",
       "      <th>2394</th>\n",
       "      <td>50</td>\n",
       "      <td>328</td>\n",
       "      <td>0.152439</td>\n",
       "    </tr>\n",
       "    <tr>\n",
       "      <th>2577</th>\n",
       "      <td>217</td>\n",
       "      <td>328</td>\n",
       "      <td>0.661585</td>\n",
       "    </tr>\n",
       "    <tr>\n",
       "      <th>3109</th>\n",
       "      <td>88</td>\n",
       "      <td>327</td>\n",
       "      <td>0.269113</td>\n",
       "    </tr>\n",
       "    <tr>\n",
       "      <th>5396</th>\n",
       "      <td>268</td>\n",
       "      <td>327</td>\n",
       "      <td>0.819572</td>\n",
       "    </tr>\n",
       "    <tr>\n",
       "      <th>7397</th>\n",
       "      <td>149</td>\n",
       "      <td>327</td>\n",
       "      <td>0.455657</td>\n",
       "    </tr>\n",
       "  </tbody>\n",
       "</table>\n",
       "</div>"
      ],
      "text/plain": [
       "            total_days_unavailable  total_days_available  unavail_percentage\n",
       "listing_id                                                                  \n",
       "2394                            50                   328            0.152439\n",
       "2577                           217                   328            0.661585\n",
       "3109                            88                   327            0.269113\n",
       "5396                           268                   327            0.819572\n",
       "7397                           149                   327            0.455657"
      ]
     },
     "execution_count": 42,
     "metadata": {},
     "output_type": "execute_result"
    }
   ],
   "source": [
    "Paris_unavail = Calendar_2019_04.groupby(['listing_id']).agg({'unavailable':'sum','available':'count'})\n",
    "Paris_unavail.rename(index=str, columns={\"unavailable\": \"total_days_unavailable\",\\\n",
    "                                       \"available\": \"total_days_available\"},inplace=True)\n",
    "Paris_unavail['unavail_percentage'] = Paris_unavail['total_days_unavailable']/Paris_unavail['total_days_available']\n",
    "Paris_unavail.head()"
   ]
  },
  {
   "cell_type": "code",
   "execution_count": 43,
   "metadata": {},
   "outputs": [],
   "source": [
    "Avail = Paris_unavail.total_days_available\n",
    "Un_Avail = Paris_unavail.total_days_unavailable"
   ]
  },
  {
   "cell_type": "code",
   "execution_count": 44,
   "metadata": {},
   "outputs": [],
   "source": [
    "Paris_unavail['price'] = Calendar_2019_04['price']"
   ]
  },
  {
   "cell_type": "code",
   "execution_count": 45,
   "metadata": {},
   "outputs": [
    {
     "data": {
      "image/png": "[encoded data removed]",
      "text/plain": [
       "<Figure size 432x288 with 1 Axes>"
      ]
     },
     "metadata": {
      "needs_background": "light"
     },
     "output_type": "display_data"
    }
   ],
   "source": [
    "Paris_unavail.unavail_percentage.plot(kind='hist',bins=60);\n",
    "plt.title('Paris Property Availablities')\n",
    "plt.xlabel('Unavailable')\n",
    "plt.ylabel('listing count')\n",
    "plt.show()\n",
    "#We see that most of the properties are unavailable most of the time"
   ]
  },
  {
   "cell_type": "code",
   "execution_count": 73,
   "metadata": {},
   "outputs": [],
   "source": [
    "#67% of properties are unavailable 365 days of the year\n",
    "\n",
    "Calendar_2019_04.query(\"date >= '2019-04-09' & date <= '2020-03-01' \", inplace=True)\n",
    "\n"
   ]
  },
  {
   "cell_type": "code",
   "execution_count": 74,
   "metadata": {},
   "outputs": [
    {
     "data": {
      "text/plain": [
       "0.676628516138283"
      ]
     },
     "execution_count": 74,
     "metadata": {},
     "output_type": "execute_result"
    }
   ],
   "source": [
    "Paris_unavail.unavail_percentage.mean() "
   ]
  }
 ],
 "metadata": {
  "kernelspec": {
   "display_name": "Python 3",
   "language": "python",
   "name": "python3"
  },
  "language_info": {
   "codemirror_mode": {
    "name": "ipython",
    "version": 3
   },
   "file_extension": ".py",
   "mimetype": "text/x-python",
   "name": "python",
   "nbconvert_exporter": "python",
   "pygments_lexer": "ipython3",
   "version": "3.7.6"
  }
 },
 "nbformat": 4,
 "nbformat_minor": 2
}
